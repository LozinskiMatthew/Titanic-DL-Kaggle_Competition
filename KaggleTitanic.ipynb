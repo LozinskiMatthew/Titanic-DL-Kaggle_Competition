{
  "nbformat": 4,
  "nbformat_minor": 0,
  "metadata": {
    "colab": {
      "provenance": []
    },
    "kernelspec": {
      "name": "python3",
      "display_name": "Python 3"
    },
    "language_info": {
      "name": "python"
    }
  },
  "cells": [
    {
      "cell_type": "code",
      "execution_count": null,
      "metadata": {
        "id": "A14q1LIwHrCQ"
      },
      "outputs": [],
      "source": [
        "#Underneath the Titanic's Deep Learning Competition: https://www.kaggle.com/c/titanic"
      ]
    },
    {
      "cell_type": "code",
      "source": [],
      "metadata": {
        "id": "GmEspMkDxCaY"
      },
      "execution_count": null,
      "outputs": []
    }
  ]
}